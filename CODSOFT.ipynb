{
  "nbformat": 4,
  "nbformat_minor": 0,
  "metadata": {
    "colab": {
      "provenance": []
    },
    "kernelspec": {
      "name": "python3",
      "display_name": "Python 3"
    },
    "language_info": {
      "name": "python"
    }
  },
  "cells": [
    {
      "cell_type": "markdown",
      "source": [
        "*** TASK 1***"
      ],
      "metadata": {
        "id": "zNOEdJAWk8a2"
      }
    },
    {
      "cell_type": "code",
      "execution_count": null,
      "metadata": {
        "colab": {
          "base_uri": "https://localhost:8080/"
        },
        "id": "eLIsbZG7kfZ4",
        "outputId": "29655350-8043-4a5a-fc82-8a4eba637bb3"
      },
      "outputs": [
        {
          "output_type": "stream",
          "name": "stdout",
          "text": [
            "\n",
            " To-Do List Application\n",
            "1.Add TAsk\n",
            "2.Update Task\n",
            "3.Delete Task\n",
            "4.Display Task\n",
            "5.Exit\n",
            "Enter your choice:5\n",
            "Exiting application . Goodbye!\n"
          ]
        }
      ],
      "source": [
        "# TO-DO-LIST\n",
        "class Task:\n",
        "  def __init__(self,title,description,due_date):\n",
        "    self.title= title\n",
        "    self.description= description\n",
        "    self.due_date= due_date\n",
        "    self.status=\"pending\"\n",
        "  def mark_as_completed(self):\n",
        "    self.status=\"completed\"\n",
        "  def __str__(self):\n",
        "    return f\"Title:{self.title}\\nDescription:{self.description}\\nDue Date:{self.dur_date}\\nStatus:{self.status}\"\n",
        "class ToDoList:\n",
        "  def __init__(self):\n",
        "    self.tasks=[]\n",
        "  def add_task(self,task):\n",
        "    self.tasks.append(task)\n",
        "  def update_task(self,index,title=None, description=None, due_date=None):\n",
        "    if 0 <= index < len(self.tasks):\n",
        "      if title:\n",
        "        self.tasks[index].title = title\n",
        "      if description:\n",
        "        self.tasks[index].description= description\n",
        "      if due_date:\n",
        "        self.tasks[index].due_date=due_date\n",
        "      else:\n",
        "        print(\"Invalid task Index\")\n",
        "  def delete_task(self,index):\n",
        "    if 0 <= index < len(self.tasks):\n",
        "      del self.tasks[index]\n",
        "    else:\n",
        "      print(\"Invalid Task index\")\n",
        "  def display_tasks(self):\n",
        "    for i , tasks in enumerate(self.tasks):\n",
        "      print(f\"Task{i+1}:\")\n",
        "      print(task)\n",
        "      print()\n",
        "  def main():\n",
        "    to_do_list = ToDoList()\n",
        "    while True:\n",
        "      print(\"\\n To-Do List Application\")\n",
        "      print(\"1.Add TAsk\")\n",
        "      print(\"2.Update Task\")\n",
        "      print(\"3.Delete Task\")\n",
        "      print(\"4.Display Task\")\n",
        "      print(\"5.Exit\")\n",
        "      choice = input(\"Enter your choice:\")\n",
        "      if choice == \"1\":\n",
        "        title = input(\"Enter task title:\")\n",
        "        description = input(\"Enter task description:\")\n",
        "        due_date= input(\"Enter task due date:\")\n",
        "        task = Task (title,description,due_date)\n",
        "        to_do_list.add_task(task)\n",
        "        print(\"Task add successfully.\")\n",
        "      elif choice == \"2\":\n",
        "        index = int(input(\"Enter task number to update:\"))\n",
        "        title= input(\"Enter new task title(leave blank to keep current):\")\n",
        "        description=input(\"Enter new task description(Leave blank to keep cureent):\")\n",
        "        due_date= input(\"ENter new task due date(leave blank to keep current):\")\n",
        "        to_do_list.update_task(index,title,description,due_date)\n",
        "        print(\"Task updated Sucessfully\")\n",
        "      elif choice ==\"3\":\n",
        "        index = int(input(\"Enter the task number to delete:\"))\n",
        "        to_do_list.delete_task(index)\n",
        "        print(\"Task deleted Sucessfully\")\n",
        "      elif choice ==\"4\":\n",
        "        to_do_list.display_tasks()\n",
        "      elif choice ==\"5\":\n",
        "        print(\"Exiting application . Goodbye!\")\n",
        "        break\n",
        "      else:\n",
        "        print(\"Invalid choice.Please try again.\")\n",
        "  if __name__ == \"__main__\":\n",
        "      main()\n",
        "\n"
      ]
    },
    {
      "cell_type": "markdown",
      "source": [],
      "metadata": {
        "id": "9iPypeLXCNFF"
      }
    },
    {
      "cell_type": "markdown",
      "source": [
        "***TASK2***"
      ],
      "metadata": {
        "id": "Lb_JFRUdsInm"
      }
    },
    {
      "cell_type": "code",
      "source": [
        "# CalCulator\n",
        "print(\"---------MINI CALCULATOR----------\")\n",
        "num1=int(input(\"Enter First Number:\"))\n",
        "num2=int(input(\"Enter Second Number:\"))\n",
        "print(\"Enter 1 for addition \\nEnter 2 for Subtraction \\nEnter 3 for multiplication\\nEnter 4 for division\")\n",
        "choice=int(input(\"Enter Your Choice from 1-4:\"))\n",
        "if choice == 1:\n",
        "  print(\"The Addition of given number is :\",num1+num2)\n",
        "elif choice == 2:\n",
        "  print(\"The Subtraction of given number is:\",num1-num2)\n",
        "elif choice == 3:\n",
        "  print(\"The Multiplication of given number is:\",num1*num2)\n",
        "elif choice == 4:\n",
        "  print(\"The division of given number is:\",num1/num2)\n",
        "else:\n",
        "  print(\"Invalid Choice\")"
      ],
      "metadata": {
        "colab": {
          "base_uri": "https://localhost:8080/"
        },
        "id": "chy2wcU1sHMl",
        "outputId": "99a35f50-71d8-46f0-d347-b36c08147281"
      },
      "execution_count": null,
      "outputs": [
        {
          "output_type": "stream",
          "name": "stdout",
          "text": [
            "---------MINI CALCULATOR----------\n",
            "Enter First Number:6\n",
            "Enter Second Number:7\n",
            "Enter 1 for addition \n",
            "Enter 2 for Subtraction \n",
            "Enter 3 for multiplication\n",
            "Enter 4 for division\n",
            "Enter Your Choice from 1-4:2\n",
            "The Subtraction of given number is: -1\n"
          ]
        }
      ]
    },
    {
      "cell_type": "markdown",
      "source": [
        "*** TASK 3***"
      ],
      "metadata": {
        "id": "bQOE93G7uhQ8"
      }
    },
    {
      "cell_type": "code",
      "source": [
        "# Random Password Generator\n",
        "import random\n",
        "import string\n",
        "pass_len=int(input(\"Enter the password length:\"))\n",
        "charValues= string.digits + string.punctuation + string.ascii_letters\n",
        "password=\"\"\n",
        "for i in range(pass_len):\n",
        "  password += random.choice(charValues)\n",
        "print(\"Your Password is:\",password)"
      ],
      "metadata": {
        "colab": {
          "base_uri": "https://localhost:8080/"
        },
        "id": "0FNUYTp7ugqR",
        "outputId": "6d13ba16-c23d-4988-ab1f-22325fdc01b0"
      },
      "execution_count": null,
      "outputs": [
        {
          "output_type": "stream",
          "name": "stdout",
          "text": [
            "Enter the password length:6\n",
            "Your Password is: 2DK/fh\n"
          ]
        }
      ]
    },
    {
      "cell_type": "markdown",
      "source": [
        "*** TASK 4***"
      ],
      "metadata": {
        "id": "2ZNEbxJzv1K-"
      }
    },
    {
      "cell_type": "code",
      "source": [
        "# Rock-Paper-Scissor\n",
        "import random\n",
        "choices=[\"rock\",\"paper\",\"scissor\"]\n",
        "def determine_winner(user_choice,computer_choice):\n",
        "  if user_choice == computer_choice:\n",
        "    return \"tie\"\n",
        "  elif(user_choice == \"rock\" and computer_choice == \"scissor\") or\\\n",
        "      (user_choice == \"scissor\" and computer_choice == \"paper\") or\\\n",
        "      (user_choice == \"paper\" and compuer_choice == \"rock\"):\n",
        "      return \"user\"\n",
        "  else:\n",
        "    return \"computer\"\n",
        "def main():\n",
        "  user_score = 0\n",
        "  computer_score = 0\n",
        "  print(\"Welcome to Rock-Paper-Scissor Game!\")\n",
        "  print(\"Instructions:\")\n",
        "  print(\"Enter 'rock','paper' ,or 'scissor' to make your choice.\")\n",
        "  print(\"Enter 'exit' to quit the game.\")\n",
        "  while True:\n",
        "    user_choice = input(\"\\nEnter your choice:\").lower()\n",
        "    if user_choice == \"exit\":\n",
        "      print(\"Thanks for playing! Final Scores:\")\n",
        "      print(f\"User:{user_score},Computer:{computer_score}\")\n",
        "      break\n",
        "    if user_choice not in choices:\n",
        "      print(\"Invalid choice.Please choose 'rock','paper',or'scissor'.\")\n",
        "      continue\n",
        "    computer_choice = random.choice(choices)\n",
        "    print(f\"Computer Choose:{computer_choice}\")\n",
        "    winner = determine_winner(user_choice,computer_choice)\n",
        "    if winner == \"tie\":\n",
        "      print(\"Its a tie!\")\n",
        "    elif winner == \"user\":\n",
        "      print(\"YOu win!\")\n",
        "      user_score += 1\n",
        "    else:\n",
        "      print(\"Computer wins!\")\n",
        "      computer_score += 1\n",
        "      print(f\"Current Scores - User:{user_score},Computer:{computer_score}\")\n",
        "      play_again = input(\"Do You want to play another round?(yes/no):\").lower()\n",
        "      if play_again != \"yes\":\n",
        "        print(\"Thanks For playing ! Final Scores:\")\n",
        "        print(f\"User:{user_score}, Computer:{computer_score}\")\n",
        "        break\n",
        "if __name__ == \"__main__\":\n",
        "  main()"
      ],
      "metadata": {
        "colab": {
          "base_uri": "https://localhost:8080/"
        },
        "id": "Ksz5m2k-v0kY",
        "outputId": "0f3e5a1e-ebef-49d4-9d98-6c869c543fbe"
      },
      "execution_count": null,
      "outputs": [
        {
          "output_type": "stream",
          "name": "stdout",
          "text": [
            "Welcome to Rock-Paper-Scissor Game!\n",
            "Instructions:\n",
            "Enter 'rock','paper' ,or 'scissor' to make your choice.\n",
            "Enter 'exit' to quit the game.\n",
            "\n",
            "Enter your choice:rock\n",
            "Computer Choose:scissor\n",
            "YOu win!\n",
            "\n",
            "Enter your choice:exit\n",
            "Thanks for playing! Final Scores:\n",
            "User:1,Computer:0\n"
          ]
        }
      ]
    },
    {
      "cell_type": "markdown",
      "source": [
        "***TASK 5***"
      ],
      "metadata": {
        "id": "k3e7Gesr0xK8"
      }
    },
    {
      "cell_type": "code",
      "source": [
        " # CONTact Book\n",
        "class Contact:\n",
        "  def __init__(self,name,phone,email):\n",
        "    self.name= name\n",
        "    self.phone= phone\n",
        "    self.email= email\n",
        "  def __str__(self):\n",
        "    return f\"Name:{self.name}, Phone:{self.phone},Email:{self.email}\"\n",
        "class ContactBook:\n",
        "  def __init__(self):\n",
        "    self.contacts=[]\n",
        "  def add_contact(self,contact):\n",
        "    self.contacts.append(contact)\n",
        "  def update_contact(self,name,new_phone=None,new_email=None):\n",
        "    for contact in self.contacts:\n",
        "      if contact.name == name:\n",
        "        if new_phone:\n",
        "          contact.phone = new_phone\n",
        "        if new_email:\n",
        "          contact.email = new_email\n",
        "        return True\n",
        "    return False\n",
        "  def delete_contact(Self,name):\n",
        "    for contact in self.contacts:\n",
        "      if contact.name == name:\n",
        "        self.contacts.remove(contact)\n",
        "        return True\n",
        "    return False\n",
        "  def display_contacts(self):\n",
        "    if not self.contacts:\n",
        "       print(\"No contacts avialable\")\n",
        "    else:\n",
        "      for contact in self.contacts:\n",
        "        print(contact)\n",
        "  def find_contact(self,name):\n",
        "    for contact in self.contacts:\n",
        "      if contact.name == name:\n",
        "        return contact\n",
        "    return None\n",
        "  def main():\n",
        "    contact_book = ContactBook()\n",
        "    print(\"Welcome to the contact Book Application\")\n",
        "    print(\"1.Add Contact\")\n",
        "    print(\"2.Update Contact\")\n",
        "    print(\"3.Delete contact\")\n",
        "    print(\"4.Display Contacts\")\n",
        "    print(\"5.Find Contact\")\n",
        "    print(\"6.Exit\")\n",
        "while True :\n",
        "  choice = input (\"\\nEnter your choice (1/2/3/4/5/6):\")\n",
        "  if choice == \"1\":\n",
        "    name = input(\"Enter Name:\")\n",
        "    phone = input(\"Enter phone:\")\n",
        "    email = input(\"Enter email:\")\n",
        "    contact= Contact(name,phone,email)\n",
        "    contact_book.add_contact(contacr)\n",
        "    print(\"Contact addded Successfully.\")\n",
        "  elif choice == \"2\":\n",
        "    name = input(\"Enter the name of the contact to update:\")\n",
        "    new_phone = input(\"Enter new phone(leave blank to keep current):\")\n",
        "    new_email = input(\"Enter new eamil (leave blank to keep current)\")\n",
        "    updated = contact_book.update_contact(name, new_phone or None , new_email or None)\n",
        "    if updated:\n",
        "      print(\"Contact updated successfully.\")\n",
        "    else:\n",
        "      print(\"Contact not found.\")\n",
        "  elif choice == \"3\":\n",
        "     name= input(\"Enter the name of the contact to delete:\")\n",
        "     deleted= contact_book.delete_contact(name)\n",
        "     if deleted:\n",
        "      print(\"contact deleted successfully.\")\n",
        "     else:\n",
        "      print(\"Contact Not found \")\n",
        "  elif choice == \"4\":\n",
        "    contact_book.display_contacts()\n",
        "  elif choice == \"5\":\n",
        "    name = input(\"Enter the name of the contact to find:\")\n",
        "    contact = contact_book.find_contact(name)\n",
        "    if contact:\n",
        "      print(contact)\n",
        "    else:\n",
        "      print(\"Contact not found\")\n",
        "  elif choice == \"6\":\n",
        "    print(\"Exciting the application.GoodBye!\")\n",
        "    break\n",
        "  else:\n",
        "    print(\"Invlaid Choice. Please try again \")\n",
        "if __name__ == \"__main__\":\n",
        "  main()\n",
        "\n",
        "\n",
        "\n",
        "\n",
        "\n",
        "\n"
      ],
      "metadata": {
        "colab": {
          "base_uri": "https://localhost:8080/"
        },
        "id": "nOmqsIBhy158",
        "outputId": "849bff05-e014-44ac-c105-c44d13706f28"
      },
      "execution_count": null,
      "outputs": [
        {
          "metadata": {
            "tags": null
          },
          "name": "stdout",
          "output_type": "stream",
          "text": [
            "Exciting the application.GoodBye!\n",
            "Welcome to Rock-Paper-Scissor Game!\n",
            "Instructions:\n",
            "Enter 'rock','paper' ,or 'scissor' to make your choice.\n",
            "Enter 'exit' to quit the game.\n"
          ]
        }
      ]
    }
  ]
}